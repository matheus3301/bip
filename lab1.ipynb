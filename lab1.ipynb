{
 "cells": [
  {
   "cell_type": "markdown",
   "id": "2481cee3-417f-49d7-9df6-868440b37868",
   "metadata": {},
   "source": [
    "# Lab 01 - Introduction"
   ]
  },
  {
   "cell_type": "code",
   "execution_count": 2,
   "id": "66f02c8f-fd31-4ad7-aa68-db774a68517e",
   "metadata": {},
   "outputs": [],
   "source": [
    "import skimage.io as io\n",
    "import matplotlib.pyplot as plt"
   ]
  },
  {
   "cell_type": "markdown",
   "id": "62f46299-fadc-4ad9-9a95-ea8ad91194ea",
   "metadata": {},
   "source": [
    "## Reading Images"
   ]
  },
  {
   "cell_type": "code",
   "execution_count": null,
   "id": "4e318d72-7cc6-457c-9c5a-8bce2734e595",
   "metadata": {},
   "outputs": [],
   "source": []
  }
 ],
 "metadata": {
  "kernelspec": {
   "display_name": "Python 3 (ipykernel)",
   "language": "python",
   "name": "python3"
  },
  "language_info": {
   "codemirror_mode": {
    "name": "ipython",
    "version": 3
   },
   "file_extension": ".py",
   "mimetype": "text/x-python",
   "name": "python",
   "nbconvert_exporter": "python",
   "pygments_lexer": "ipython3",
   "version": "3.10.4"
  }
 },
 "nbformat": 4,
 "nbformat_minor": 5
}
